{
 "cells": [
  {
   "cell_type": "code",
   "execution_count": 1,
   "id": "56d11fd4",
   "metadata": {},
   "outputs": [],
   "source": [
    "#load dataset\n",
    "from datasets import load_dataset"
   ]
  },
  {
   "cell_type": "code",
   "execution_count": 3,
   "id": "22068ff8",
   "metadata": {},
   "outputs": [
    {
     "data": {
      "application/vnd.jupyter.widget-view+json": {
       "model_id": "391a29db0ccf445fa3558300aef11d9b",
       "version_major": 2,
       "version_minor": 0
      },
      "text/plain": [
       "README.md: 0.00B [00:00, ?B/s]"
      ]
     },
     "metadata": {},
     "output_type": "display_data"
    },
    {
     "name": "stderr",
     "output_type": "stream",
     "text": [
      "c:\\Users\\ngtie\\.conda\\envs\\MAGI\\lib\\site-packages\\huggingface_hub\\file_download.py:143: UserWarning: `huggingface_hub` cache-system uses symlinks by default to efficiently store duplicated files but your machine does not support them in C:\\Users\\ngtie\\.cache\\huggingface\\hub\\datasets--uoft-cs--cifar100. Caching files will still work but in a degraded version that might require more space on your disk. This warning can be disabled by setting the `HF_HUB_DISABLE_SYMLINKS_WARNING` environment variable. For more details, see https://huggingface.co/docs/huggingface_hub/how-to-cache#limitations.\n",
      "To support symlinks on Windows, you either need to activate Developer Mode or to run Python as an administrator. In order to activate developer mode, see this article: https://docs.microsoft.com/en-us/windows/apps/get-started/enable-your-device-for-development\n",
      "  warnings.warn(message)\n",
      "Xet Storage is enabled for this repo, but the 'hf_xet' package is not installed. Falling back to regular HTTP download. For better performance, install the package with: `pip install huggingface_hub[hf_xet]` or `pip install hf_xet`\n"
     ]
    },
    {
     "data": {
      "application/vnd.jupyter.widget-view+json": {
       "model_id": "b3324c860ae44515a93e884360db0c52",
       "version_major": 2,
       "version_minor": 0
      },
      "text/plain": [
       "0000.parquet:   0%|          | 0.00/119M [00:00<?, ?B/s]"
      ]
     },
     "metadata": {},
     "output_type": "display_data"
    },
    {
     "name": "stderr",
     "output_type": "stream",
     "text": [
      "Xet Storage is enabled for this repo, but the 'hf_xet' package is not installed. Falling back to regular HTTP download. For better performance, install the package with: `pip install huggingface_hub[hf_xet]` or `pip install hf_xet`\n"
     ]
    },
    {
     "data": {
      "application/vnd.jupyter.widget-view+json": {
       "model_id": "c45d327d0bf74ce288b6f049b74ae57b",
       "version_major": 2,
       "version_minor": 0
      },
      "text/plain": [
       "0000.parquet:   0%|          | 0.00/23.8M [00:00<?, ?B/s]"
      ]
     },
     "metadata": {},
     "output_type": "display_data"
    },
    {
     "data": {
      "application/vnd.jupyter.widget-view+json": {
       "model_id": "af9562a6cd794f53a629ca78f64e590e",
       "version_major": 2,
       "version_minor": 0
      },
      "text/plain": [
       "Generating train split:   0%|          | 0/50000 [00:00<?, ? examples/s]"
      ]
     },
     "metadata": {},
     "output_type": "display_data"
    },
    {
     "data": {
      "application/vnd.jupyter.widget-view+json": {
       "model_id": "73bbedd5bc264cd0a598daaf194ad446",
       "version_major": 2,
       "version_minor": 0
      },
      "text/plain": [
       "Generating test split:   0%|          | 0/10000 [00:00<?, ? examples/s]"
      ]
     },
     "metadata": {},
     "output_type": "display_data"
    }
   ],
   "source": [
    "cifar_100 = load_dataset(\"uoft-cs/cifar100\")"
   ]
  },
  {
   "cell_type": "code",
   "execution_count": 6,
   "id": "8c8f565b",
   "metadata": {},
   "outputs": [
    {
     "data": {
      "text/plain": [
       "DatasetDict({\n",
       "    train: Dataset({\n",
       "        features: ['img', 'fine_label', 'coarse_label'],\n",
       "        num_rows: 50000\n",
       "    })\n",
       "    test: Dataset({\n",
       "        features: ['img', 'fine_label', 'coarse_label'],\n",
       "        num_rows: 10000\n",
       "    })\n",
       "})"
      ]
     },
     "execution_count": 6,
     "metadata": {},
     "output_type": "execute_result"
    }
   ],
   "source": [
    "cifar_100"
   ]
  },
  {
   "cell_type": "code",
   "execution_count": null,
   "id": "38e1ce51",
   "metadata": {},
   "outputs": [],
   "source": [
    "#fine_id to label\n",
    "id2labels = {\n",
    "    0: \"apple\",\n",
    "    1: \"aquarium_fish\",\n",
    "    2: \"baby\",\n",
    "    3: \"bear\",\n",
    "    4: \"beaver\",\n",
    "    5: \"bed\",\n",
    "    6: \"bee\",\n",
    "    7: \"beetle\",\n",
    "    8: \"bicycle\",\n",
    "    9: \"bottle\",\n",
    "    10: \"bowl\",\n",
    "    11: \"boy\",\n",
    "    12: \"bridge\",\n",
    "    13: \"bus\",\n",
    "    14: \"butterfly\",\n",
    "    15: \"camel\",\n",
    "    16: \"can\",\n",
    "    17: \"castle\",\n",
    "    18: \"caterpillar\",\n",
    "    19: \"cattle\",\n",
    "    20: \"chair\",\n",
    "    21: \"chimpanzee\",\n",
    "    22: \"clock\",\n",
    "    23: \"cloud\",\n",
    "    24: \"cockroach\",\n",
    "    25: \"couch\",\n",
    "    26: \"cra\",   # (this looks like a typo? maybe \"crab\"?)\n",
    "    27: \"crocodile\",\n",
    "    28: \"cup\",\n",
    "    29: \"dinosaur\",\n",
    "    30: \"dolphin\",\n",
    "    31: \"elephant\",\n",
    "    32: \"flatfish\",\n",
    "    33: \"forest\",\n",
    "    34: \"fox\",\n",
    "    35: \"girl\",\n",
    "    36: \"hamster\",\n",
    "    37: \"house\",\n",
    "    38: \"kangaroo\",\n",
    "    39: \"keyboard\",\n",
    "    40: \"lamp\",\n",
    "    41: \"lawn_mower\",\n",
    "    42: \"leopard\",\n",
    "    43: \"lion\",\n",
    "    44: \"lizard\",\n",
    "    45: \"lobster\",\n",
    "    46: \"man\",\n",
    "    47: \"maple_tree\",\n",
    "    48: \"motorcycle\",\n",
    "    49: \"mountain\",\n",
    "    50: \"mouse\",\n",
    "    51: \"mushroom\",\n",
    "    52: \"oak_tree\",\n",
    "    53: \"orange\",\n",
    "    54: \"orchid\",\n",
    "    55: \"otter\",\n",
    "    56: \"palm_tree\",\n",
    "    57: \"pear\",\n",
    "    58: \"pickup_truck\",\n",
    "    59: \"pine_tree\",\n",
    "    60: \"plain\",\n",
    "    61: \"plate\",\n",
    "    62: \"poppy\",\n",
    "    63: \"porcupine\",\n",
    "    64: \"possum\",\n",
    "    65: \"rabbit\",\n",
    "    66: \"raccoon\",\n",
    "    67: \"ray\",\n",
    "    68: \"road\",\n",
    "    69: \"rocket\",\n",
    "    70: \"rose\",\n",
    "    71: \"sea\",\n",
    "    72: \"seal\",\n",
    "    73: \"shark\",\n",
    "    74: \"shrew\",\n",
    "    75: \"skunk\",\n",
    "    76: \"skyscraper\",\n",
    "    77: \"snail\",\n",
    "    78: \"snake\",\n",
    "    79: \"spider\",\n",
    "    80: \"squirrel\",\n",
    "    81: \"streetcar\",\n",
    "    82: \"sunflower\",\n",
    "    83: \"sweet_pepper\",\n",
    "    84: \"table\",\n",
    "    85: \"tank\",\n",
    "    86: \"telephone\",\n",
    "    87: \"television\",\n",
    "    88: \"tiger\",\n",
    "    89: \"tractor\",\n",
    "    90: \"train\",\n",
    "    91: \"trout\",\n",
    "    92: \"tulip\",\n",
    "    93: \"turtle\",\n",
    "    94: \"wardrobe\",\n",
    "    95: \"whale\",\n",
    "    96: \"willow_tree\",\n",
    "    97: \"wolf\",\n",
    "    98: \"woman\",\n",
    "    99: \"worm\"\n",
    "}\n"
   ]
  },
  {
   "cell_type": "code",
   "execution_count": 26,
   "id": "40770335",
   "metadata": {},
   "outputs": [],
   "source": [
    "#coarse_id to label\n",
    "coarse_id2labels = {\n",
    "    0: \"aquatic_mammals\",\n",
    "    1: \"fish\",\n",
    "    2: \"flowers\",\n",
    "    3: \"food_containers\",\n",
    "    4: \"fruit_and_vegetables\",\n",
    "    5: \"household_electrical_devices\",\n",
    "    6: \"household_furniture\",\n",
    "    7: \"insects\",\n",
    "    8: \"large_carnivores\",\n",
    "    9: \"large_man-made_outdoor_things\",\n",
    "    10: \"large_natural_outdoor_scenes\",\n",
    "    11: \"large_omnivores_and_herbivores\",\n",
    "    12: \"medium_mammals\",\n",
    "    13: \"non-insect_invertebrates\",\n",
    "    14: \"people\",\n",
    "    15: \"reptiles\",\n",
    "    16: \"small_mammals\",\n",
    "    17: \"trees\",\n",
    "    18: \"vehicles_1\",\n",
    "    19: \"vehicles_2\"\n",
    "}\n"
   ]
  },
  {
   "cell_type": "code",
   "execution_count": 11,
   "id": "ca4c39ba",
   "metadata": {},
   "outputs": [
    {
     "name": "stdout",
     "output_type": "stream",
     "text": [
      "train Sample:  {'img': <PIL.PngImagePlugin.PngImageFile image mode=RGB size=32x32 at 0x13E9D9EE1A0>, 'fine_label': 19, 'coarse_label': 11}\n",
      "test sample:  {'img': <PIL.PngImagePlugin.PngImageFile image mode=RGB size=32x32 at 0x13E9D9EEF50>, 'fine_label': 49, 'coarse_label': 10}\n"
     ]
    }
   ],
   "source": [
    "#split dataset into train and test\n",
    "\n",
    "train_set = cifar_100['train']\n",
    "test_set = cifar_100['test']\n",
    "\n",
    "#print sample\n",
    "\n",
    "print(\"train Sample: \" , train_set[0])\n",
    "print(\"test sample: \" , test_set[0])"
   ]
  },
  {
   "cell_type": "code",
   "execution_count": null,
   "id": "4824bdf9",
   "metadata": {},
   "outputs": [
    {
     "data": {
      "text/plain": [
       "Text(0.5, 1.0, 'cattle')"
      ]
     },
     "execution_count": 25,
     "metadata": {},
     "output_type": "execute_result"
    },
    {
     "data": {
      "image/png": "[encoded data removed]",
      "text/plain": [
       "<Figure size 640x480 with 1 Axes>"
      ]
     },
     "metadata": {},
     "output_type": "display_data"
    }
   ],
   "source": [
    "#dataset visualization\n",
    "\n",
    "import matplotlib.pyplot as plt\n",
    "\n",
    "image = train_set[0].get('img')\n",
    "fine_id = int(train_set[0].get('fine_label'))\n",
    "coarse_id = int(train_set[0].get('coarse_label'))\n",
    "fine_label = id2labels[fine_id]\n",
    "coarse_label = coarse_id2labels[coarse_id]\n",
    "\n",
    "\n",
    "plt.imshow(image)\n",
    "plt.title(fine_label, \", \" , coarse_label)"
   ]
  }
 ],
 "metadata": {
  "kernelspec": {
   "display_name": "MAGI",
   "language": "python",
   "name": "python3"
  },
  "language_info": {
   "codemirror_mode": {
    "name": "ipython",
    "version": 3
   },
   "file_extension": ".py",
   "mimetype": "text/x-python",
   "name": "python",
   "nbconvert_exporter": "python",
   "pygments_lexer": "ipython3",
   "version": "3.10.16"
  }
 },
 "nbformat": 4,
 "nbformat_minor": 5
}
